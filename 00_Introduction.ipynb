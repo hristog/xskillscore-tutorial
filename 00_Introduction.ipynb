{
 "cells": [
  {
   "cell_type": "markdown",
   "metadata": {},
   "source": [
    "## xskillscore-tutorial"
   ]
  },
  {
   "cell_type": "markdown",
   "metadata": {},
   "source": [
    "Welcome to the [xskillscore](https://github.com/raybellwaves/xskillscore) tutorial.\n",
    "\n",
    "This was created for a talk at the [Data Science Study Group: South Florida](https://www.meetup.com/Data-Science-Study-Group-South-Florida/) on April 1 st 2020.\n",
    "\n",
    "The repository for this tutorial is hosted on GitHub here: [xskillscore-tutorial](https://github.com/raybellwaves/xskillscore-tutorial)."
   ]
  },
  {
   "cell_type": "markdown",
   "metadata": {},
   "source": [
    "## Motivation for xskillscore"
   ]
  },
  {
   "cell_type": "markdown",
   "metadata": {},
   "source": [
    "`xskillscore` provides a one-stop shop for metrics used in verifications of forecasts.\n",
    "\n",
    "It is an extenstion of [xarray](http://xarray.pydata.org/en/stable/) which is a library that handles labelled n-dimensional arrays. Find out more information about `xarray` [here](http://xarray.pydata.org/en/stable/why-xarray.html)."
   ]
  },
  {
   "cell_type": "markdown",
   "metadata": {},
   "source": [
    "## History of xskillscore"
   ]
  },
  {
   "cell_type": "markdown",
   "metadata": {},
   "source": [
    "`xskillscore` was developed by Ray Bell while at the University of Miami during the [SubX project](https://journals.ametsoc.org/doi/full/10.1175/BAMS-D-18-0270.1) in 2018.\n",
    "\n",
    "In 2019, Aaron Spring, Andrew Huang and Riley Brady greatly improved `xskillscore`. Aaron, Andrew and Riley provided upstream fixes and enchancment of `xskillscore` as it used extensively in [climpred](https://climpred.readthedocs.io/en/stable/)."
   ]
  },
  {
   "cell_type": "markdown",
   "metadata": {},
   "source": [
    "## Contents of xskillscore-tutorial"
   ]
  },
  {
   "cell_type": "markdown",
   "metadata": {},
   "source": [
    " - [01_Deterministic.ipynb](https://github.com/raybellwaves/xskillscore-tutorial/blob/master/01_Determinisitic.ipynb)"
   ]
  },
  {
   "cell_type": "markdown",
   "metadata": {},
   "source": [
    "this ..."
   ]
  },
  {
   "cell_type": "markdown",
   "metadata": {},
   "source": [
    " - [02_Probabilistic.ipynb](https://github.com/raybellwaves/xskillscore-tutorial/blob/master/02_Probabilistic.ipynb)"
   ]
  },
  {
   "cell_type": "markdown",
   "metadata": {},
   "source": [
    "this ..."
   ]
  },
  {
   "cell_type": "markdown",
   "metadata": {},
   "source": [
    " - [03_Big_Data.ipynb](https://github.com/raybellwaves/xskillscore-tutorial/blob/master/03_Big_Data.ipynb)"
   ]
  },
  {
   "cell_type": "markdown",
   "metadata": {},
   "source": [
    "this ..."
   ]
  }
 ],
 "metadata": {
  "kernelspec": {
   "display_name": "Python 3",
   "language": "python",
   "name": "python3"
  },
  "language_info": {
   "codemirror_mode": {
    "name": "ipython",
    "version": 3
   },
   "file_extension": ".py",
   "mimetype": "text/x-python",
   "name": "python",
   "nbconvert_exporter": "python",
   "pygments_lexer": "ipython3",
   "version": "3.8.2"
  }
 },
 "nbformat": 4,
 "nbformat_minor": 4
}
