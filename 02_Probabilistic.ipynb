{
 "cells": [
  {
   "cell_type": "markdown",
   "metadata": {},
   "source": [
    "overview of this notebook..."
   ]
  },
  {
   "cell_type": "code",
   "execution_count": 2,
   "metadata": {},
   "outputs": [],
   "source": [
    "import xarray as xr\n",
    "import pandas as pd\n",
    "import numpy as np\n",
    "import xskillscore as xs\n",
    "%load_ext blackcellmagic"
   ]
  },
  {
   "cell_type": "markdown",
   "metadata": {},
   "source": [
    "Use the same data as in 01_Deterministic.py"
   ]
  },
  {
   "cell_type": "code",
   "execution_count": 8,
   "metadata": {},
   "outputs": [
    {
     "data": {
      "text/html": [
       "<div>\n",
       "<style scoped>\n",
       "    .dataframe tbody tr th:only-of-type {\n",
       "        vertical-align: middle;\n",
       "    }\n",
       "\n",
       "    .dataframe tbody tr th {\n",
       "        vertical-align: top;\n",
       "    }\n",
       "\n",
       "    .dataframe thead th {\n",
       "        text-align: right;\n",
       "    }\n",
       "</style>\n",
       "<table border=\"1\" class=\"dataframe\">\n",
       "  <thead>\n",
       "    <tr style=\"text-align: right;\">\n",
       "      <th></th>\n",
       "      <th></th>\n",
       "      <th></th>\n",
       "      <th>y</th>\n",
       "    </tr>\n",
       "    <tr>\n",
       "      <th>DATE</th>\n",
       "      <th>STORE</th>\n",
       "      <th>SKU</th>\n",
       "      <th></th>\n",
       "    </tr>\n",
       "  </thead>\n",
       "  <tbody>\n",
       "    <tr>\n",
       "      <th rowspan=\"5\" valign=\"top\">2020-01-01</th>\n",
       "      <th rowspan=\"3\" valign=\"top\">0</th>\n",
       "      <th>0</th>\n",
       "      <td>4</td>\n",
       "    </tr>\n",
       "    <tr>\n",
       "      <th>1</th>\n",
       "      <td>1</td>\n",
       "    </tr>\n",
       "    <tr>\n",
       "      <th>2</th>\n",
       "      <td>0</td>\n",
       "    </tr>\n",
       "    <tr>\n",
       "      <th rowspan=\"2\" valign=\"top\">1</th>\n",
       "      <th>0</th>\n",
       "      <td>1</td>\n",
       "    </tr>\n",
       "    <tr>\n",
       "      <th>1</th>\n",
       "      <td>8</td>\n",
       "    </tr>\n",
       "  </tbody>\n",
       "</table>\n",
       "</div>"
      ],
      "text/plain": [
       "                      y\n",
       "DATE       STORE SKU   \n",
       "2020-01-01 0     0    4\n",
       "                 1    1\n",
       "                 2    0\n",
       "           1     0    1\n",
       "                 1    8"
      ]
     },
     "execution_count": 8,
     "metadata": {},
     "output_type": "execute_result"
    }
   ],
   "source": [
    "stores = np.arange(4)\n",
    "skus = np.arange(3)\n",
    "dates = pd.date_range(\"1/1/2020\", \"1/5/2020\", freq=\"D\")\n",
    "\n",
    "rows = []\n",
    "for _, date in enumerate(dates):\n",
    "    for _, store in enumerate(stores):\n",
    "        for _, sku in enumerate(skus):\n",
    "            rows.append(\n",
    "                dict(\n",
    "                    {\n",
    "                        \"DATE\": date,\n",
    "                        \"STORE\": store,\n",
    "                        \"SKU\": sku,\n",
    "                        \"QUANTITY_SOLD\": np.random.randint(10),\n",
    "                    }\n",
    "                )\n",
    "            )\n",
    "df = pd.DataFrame(rows)\n",
    "df.rename(columns={\"QUANTITY_SOLD\": \"y\"}, inplace=True)\n",
    "df.set_index(['DATE', 'STORE', 'SKU'], inplace=True)\n",
    "df.head()"
   ]
  },
  {
   "cell_type": "markdown",
   "metadata": {},
   "source": [
    "Make multiple predictions...\n",
    "\n",
    "Append the predictions to the df using a `member` column..."
   ]
  },
  {
   "cell_type": "code",
   "execution_count": 14,
   "metadata": {},
   "outputs": [
    {
     "data": {
      "text/html": [
       "<div>\n",
       "<style scoped>\n",
       "    .dataframe tbody tr th:only-of-type {\n",
       "        vertical-align: middle;\n",
       "    }\n",
       "\n",
       "    .dataframe tbody tr th {\n",
       "        vertical-align: top;\n",
       "    }\n",
       "\n",
       "    .dataframe thead th {\n",
       "        text-align: right;\n",
       "    }\n",
       "</style>\n",
       "<table border=\"1\" class=\"dataframe\">\n",
       "  <thead>\n",
       "    <tr style=\"text-align: right;\">\n",
       "      <th></th>\n",
       "      <th></th>\n",
       "      <th></th>\n",
       "      <th>y</th>\n",
       "      <th>member</th>\n",
       "      <th>yhat</th>\n",
       "    </tr>\n",
       "    <tr>\n",
       "      <th>DATE</th>\n",
       "      <th>STORE</th>\n",
       "      <th>SKU</th>\n",
       "      <th></th>\n",
       "      <th></th>\n",
       "      <th></th>\n",
       "    </tr>\n",
       "  </thead>\n",
       "  <tbody>\n",
       "    <tr>\n",
       "      <th rowspan=\"5\" valign=\"top\">2020-01-01</th>\n",
       "      <th rowspan=\"3\" valign=\"top\">0</th>\n",
       "      <th>0</th>\n",
       "      <td>4</td>\n",
       "      <td>1</td>\n",
       "      <td>5</td>\n",
       "    </tr>\n",
       "    <tr>\n",
       "      <th>1</th>\n",
       "      <td>1</td>\n",
       "      <td>1</td>\n",
       "      <td>0</td>\n",
       "    </tr>\n",
       "    <tr>\n",
       "      <th>2</th>\n",
       "      <td>0</td>\n",
       "      <td>1</td>\n",
       "      <td>0</td>\n",
       "    </tr>\n",
       "    <tr>\n",
       "      <th rowspan=\"2\" valign=\"top\">1</th>\n",
       "      <th>0</th>\n",
       "      <td>1</td>\n",
       "      <td>1</td>\n",
       "      <td>1</td>\n",
       "    </tr>\n",
       "    <tr>\n",
       "      <th>1</th>\n",
       "      <td>8</td>\n",
       "      <td>1</td>\n",
       "      <td>15</td>\n",
       "    </tr>\n",
       "    <tr>\n",
       "      <th>...</th>\n",
       "      <th>...</th>\n",
       "      <th>...</th>\n",
       "      <td>...</td>\n",
       "      <td>...</td>\n",
       "      <td>...</td>\n",
       "    </tr>\n",
       "    <tr>\n",
       "      <th rowspan=\"5\" valign=\"top\">2020-01-05</th>\n",
       "      <th rowspan=\"2\" valign=\"top\">2</th>\n",
       "      <th>1</th>\n",
       "      <td>5</td>\n",
       "      <td>6</td>\n",
       "      <td>9</td>\n",
       "    </tr>\n",
       "    <tr>\n",
       "      <th>2</th>\n",
       "      <td>1</td>\n",
       "      <td>6</td>\n",
       "      <td>0</td>\n",
       "    </tr>\n",
       "    <tr>\n",
       "      <th rowspan=\"3\" valign=\"top\">3</th>\n",
       "      <th>0</th>\n",
       "      <td>3</td>\n",
       "      <td>6</td>\n",
       "      <td>2</td>\n",
       "    </tr>\n",
       "    <tr>\n",
       "      <th>1</th>\n",
       "      <td>1</td>\n",
       "      <td>6</td>\n",
       "      <td>1</td>\n",
       "    </tr>\n",
       "    <tr>\n",
       "      <th>2</th>\n",
       "      <td>0</td>\n",
       "      <td>6</td>\n",
       "      <td>0</td>\n",
       "    </tr>\n",
       "  </tbody>\n",
       "</table>\n",
       "<p>360 rows × 3 columns</p>\n",
       "</div>"
      ],
      "text/plain": [
       "                      y  member  yhat\n",
       "DATE       STORE SKU                 \n",
       "2020-01-01 0     0    4       1     5\n",
       "                 1    1       1     0\n",
       "                 2    0       1     0\n",
       "           1     0    1       1     1\n",
       "                 1    8       1    15\n",
       "...                  ..     ...   ...\n",
       "2020-01-05 2     1    5       6     9\n",
       "                 2    1       6     0\n",
       "           3     0    3       6     2\n",
       "                 1    1       6     1\n",
       "                 2    0       6     0\n",
       "\n",
       "[360 rows x 3 columns]"
      ]
     },
     "execution_count": 14,
     "metadata": {},
     "output_type": "execute_result"
    }
   ],
   "source": [
    "tmp = df.copy()\n",
    "for i in range(1, 7):\n",
    "    tmp['member'] = i\n",
    "    noise = np.random.uniform(-1, 1, size=len(df['y']))\n",
    "    tmp['yhat'] = (df['y'] + (df['y'] * noise)).astype(int)\n",
    "    if i == 1:\n",
    "        df_yhat = tmp.copy()\n",
    "    else:\n",
    "        df_yhat = df_yhat.append(tmp)\n",
    "df_yhat"
   ]
  },
  {
   "cell_type": "markdown",
   "metadata": {},
   "source": [
    "Drop the `y` column and add `member` to the index..."
   ]
  },
  {
   "cell_type": "code",
   "execution_count": 15,
   "metadata": {},
   "outputs": [
    {
     "data": {
      "text/html": [
       "<div>\n",
       "<style scoped>\n",
       "    .dataframe tbody tr th:only-of-type {\n",
       "        vertical-align: middle;\n",
       "    }\n",
       "\n",
       "    .dataframe tbody tr th {\n",
       "        vertical-align: top;\n",
       "    }\n",
       "\n",
       "    .dataframe thead th {\n",
       "        text-align: right;\n",
       "    }\n",
       "</style>\n",
       "<table border=\"1\" class=\"dataframe\">\n",
       "  <thead>\n",
       "    <tr style=\"text-align: right;\">\n",
       "      <th></th>\n",
       "      <th></th>\n",
       "      <th></th>\n",
       "      <th></th>\n",
       "      <th>yhat</th>\n",
       "    </tr>\n",
       "    <tr>\n",
       "      <th>DATE</th>\n",
       "      <th>STORE</th>\n",
       "      <th>SKU</th>\n",
       "      <th>member</th>\n",
       "      <th></th>\n",
       "    </tr>\n",
       "  </thead>\n",
       "  <tbody>\n",
       "    <tr>\n",
       "      <th rowspan=\"5\" valign=\"top\">2020-01-01</th>\n",
       "      <th rowspan=\"3\" valign=\"top\">0</th>\n",
       "      <th>0</th>\n",
       "      <th>1</th>\n",
       "      <td>5</td>\n",
       "    </tr>\n",
       "    <tr>\n",
       "      <th>1</th>\n",
       "      <th>1</th>\n",
       "      <td>0</td>\n",
       "    </tr>\n",
       "    <tr>\n",
       "      <th>2</th>\n",
       "      <th>1</th>\n",
       "      <td>0</td>\n",
       "    </tr>\n",
       "    <tr>\n",
       "      <th rowspan=\"2\" valign=\"top\">1</th>\n",
       "      <th>0</th>\n",
       "      <th>1</th>\n",
       "      <td>1</td>\n",
       "    </tr>\n",
       "    <tr>\n",
       "      <th>1</th>\n",
       "      <th>1</th>\n",
       "      <td>15</td>\n",
       "    </tr>\n",
       "    <tr>\n",
       "      <th>...</th>\n",
       "      <th>...</th>\n",
       "      <th>...</th>\n",
       "      <th>...</th>\n",
       "      <td>...</td>\n",
       "    </tr>\n",
       "    <tr>\n",
       "      <th rowspan=\"5\" valign=\"top\">2020-01-05</th>\n",
       "      <th rowspan=\"2\" valign=\"top\">2</th>\n",
       "      <th>1</th>\n",
       "      <th>6</th>\n",
       "      <td>9</td>\n",
       "    </tr>\n",
       "    <tr>\n",
       "      <th>2</th>\n",
       "      <th>6</th>\n",
       "      <td>0</td>\n",
       "    </tr>\n",
       "    <tr>\n",
       "      <th rowspan=\"3\" valign=\"top\">3</th>\n",
       "      <th>0</th>\n",
       "      <th>6</th>\n",
       "      <td>2</td>\n",
       "    </tr>\n",
       "    <tr>\n",
       "      <th>1</th>\n",
       "      <th>6</th>\n",
       "      <td>1</td>\n",
       "    </tr>\n",
       "    <tr>\n",
       "      <th>2</th>\n",
       "      <th>6</th>\n",
       "      <td>0</td>\n",
       "    </tr>\n",
       "  </tbody>\n",
       "</table>\n",
       "<p>360 rows × 1 columns</p>\n",
       "</div>"
      ],
      "text/plain": [
       "                             yhat\n",
       "DATE       STORE SKU member      \n",
       "2020-01-01 0     0   1          5\n",
       "                 1   1          0\n",
       "                 2   1          0\n",
       "           1     0   1          1\n",
       "                 1   1         15\n",
       "...                           ...\n",
       "2020-01-05 2     1   6          9\n",
       "                 2   6          0\n",
       "           3     0   6          2\n",
       "                 1   6          1\n",
       "                 2   6          0\n",
       "\n",
       "[360 rows x 1 columns]"
      ]
     },
     "execution_count": 15,
     "metadata": {},
     "output_type": "execute_result"
    }
   ],
   "source": [
    "df_yhat.drop('y', axis=1, inplace=True)\n",
    "df_yhat.set_index(['member'], append=True, inplace=True)\n",
    "df_yhat"
   ]
  },
  {
   "cell_type": "markdown",
   "metadata": {},
   "source": [
    "Convert the target dataframe to an xarray.Dataset... "
   ]
  },
  {
   "cell_type": "code",
   "execution_count": 16,
   "metadata": {},
   "outputs": [
    {
     "data": {
      "text/html": [
       "<pre>&lt;xarray.Dataset&gt;\n",
       "Dimensions:  (DATE: 5, SKU: 3, STORE: 4)\n",
       "Coordinates:\n",
       "  * DATE     (DATE) datetime64[ns] 2020-01-01 2020-01-02 ... 2020-01-05\n",
       "  * STORE    (STORE) int64 0 1 2 3\n",
       "  * SKU      (SKU) int64 0 1 2\n",
       "Data variables:\n",
       "    y        (DATE, STORE, SKU) int64 4 1 0 1 8 8 4 0 4 6 ... 9 0 2 9 5 1 3 1 0</pre>"
      ],
      "text/plain": [
       "<xarray.Dataset>\n",
       "Dimensions:  (DATE: 5, SKU: 3, STORE: 4)\n",
       "Coordinates:\n",
       "  * DATE     (DATE) datetime64[ns] 2020-01-01 2020-01-02 ... 2020-01-05\n",
       "  * STORE    (STORE) int64 0 1 2 3\n",
       "  * SKU      (SKU) int64 0 1 2\n",
       "Data variables:\n",
       "    y        (DATE, STORE, SKU) int64 4 1 0 1 8 8 4 0 4 6 ... 9 0 2 9 5 1 3 1 0"
      ]
     },
     "execution_count": 16,
     "metadata": {},
     "output_type": "execute_result"
    }
   ],
   "source": [
    "ds = df.to_xarray()\n",
    "ds"
   ]
  },
  {
   "cell_type": "markdown",
   "metadata": {},
   "source": [
    "Add the predicted dataframe as an `xarray.DataArray` to the `xarray.Dataset`"
   ]
  },
  {
   "cell_type": "code",
   "execution_count": 17,
   "metadata": {},
   "outputs": [
    {
     "data": {
      "text/html": [
       "<pre>&lt;xarray.Dataset&gt;\n",
       "Dimensions:  (DATE: 5, SKU: 3, STORE: 4, member: 6)\n",
       "Coordinates:\n",
       "  * DATE     (DATE) datetime64[ns] 2020-01-01 2020-01-02 ... 2020-01-05\n",
       "  * STORE    (STORE) int64 0 1 2 3\n",
       "  * SKU      (SKU) int64 0 1 2\n",
       "  * member   (member) int64 1 2 3 4 5 6\n",
       "Data variables:\n",
       "    y        (DATE, STORE, SKU) int64 4 1 0 1 8 8 4 0 4 6 ... 9 0 2 9 5 1 3 1 0\n",
       "    yhat     (DATE, STORE, SKU, member) int64 5 0 7 3 2 0 0 1 ... 1 0 0 0 0 0 0</pre>"
      ],
      "text/plain": [
       "<xarray.Dataset>\n",
       "Dimensions:  (DATE: 5, SKU: 3, STORE: 4, member: 6)\n",
       "Coordinates:\n",
       "  * DATE     (DATE) datetime64[ns] 2020-01-01 2020-01-02 ... 2020-01-05\n",
       "  * STORE    (STORE) int64 0 1 2 3\n",
       "  * SKU      (SKU) int64 0 1 2\n",
       "  * member   (member) int64 1 2 3 4 5 6\n",
       "Data variables:\n",
       "    y        (DATE, STORE, SKU) int64 4 1 0 1 8 8 4 0 4 6 ... 9 0 2 9 5 1 3 1 0\n",
       "    yhat     (DATE, STORE, SKU, member) int64 5 0 7 3 2 0 0 1 ... 1 0 0 0 0 0 0"
      ]
     },
     "execution_count": 17,
     "metadata": {},
     "output_type": "execute_result"
    }
   ],
   "source": [
    "ds['yhat'] = df_yhat.to_xarray()['yhat']\n",
    "ds"
   ]
  },
  {
   "cell_type": "markdown",
   "metadata": {},
   "source": [
    "# Using xskillscore - CRPS"
   ]
  },
  {
   "cell_type": "markdown",
   "metadata": {},
   "source": [
    "What is CRPS..."
   ]
  },
  {
   "cell_type": "code",
   "execution_count": null,
   "metadata": {},
   "outputs": [],
   "source": [
    "It's useage om "
   ]
  },
  {
   "cell_type": "markdown",
   "metadata": {},
   "source": [
    "Apply CRPS over the member dimension... This will return the CRPS as a date, store and sku level"
   ]
  },
  {
   "cell_type": "code",
   "execution_count": 23,
   "metadata": {},
   "outputs": [
    {
     "data": {
      "text/html": [
       "<pre>&lt;xarray.DataArray (DATE: 5, STORE: 4, SKU: 3)&gt;\n",
       "array([[[1.08333333, 0.02777778, 0.        ],\n",
       "        [0.11111111, 2.47222222, 1.75      ],\n",
       "        [0.88888889, 0.        , 0.83333333],\n",
       "        [2.36111111, 1.08333333, 0.        ]],\n",
       "\n",
       "       [[0.        , 0.11111111, 1.91666667],\n",
       "        [1.52777778, 0.19444444, 2.72222222],\n",
       "        [1.19444444, 0.36111111, 2.11111111],\n",
       "        [1.08333333, 2.38888889, 0.61111111]],\n",
       "\n",
       "       [[0.02777778, 0.        , 1.13888889],\n",
       "        [0.        , 2.30555556, 0.94444444],\n",
       "        [0.        , 0.63888889, 1.19444444],\n",
       "        [0.80555556, 0.63888889, 2.30555556]],\n",
       "\n",
       "       [[0.44444444, 0.94444444, 0.58333333],\n",
       "        [1.41666667, 0.41666667, 0.88888889],\n",
       "        [2.11111111, 1.33333333, 0.97222222],\n",
       "        [0.        , 1.97222222, 0.        ]],\n",
       "\n",
       "       [[1.58333333, 1.61111111, 0.        ],\n",
       "        [3.33333333, 0.        , 0.94444444],\n",
       "        [2.91666667, 1.72222222, 0.44444444],\n",
       "        [0.27777778, 0.11111111, 0.        ]]])\n",
       "Coordinates:\n",
       "  * DATE     (DATE) datetime64[ns] 2020-01-01 2020-01-02 ... 2020-01-05\n",
       "  * STORE    (STORE) int64 0 1 2 3\n",
       "  * SKU      (SKU) int64 0 1 2</pre>"
      ],
      "text/plain": [
       "<xarray.DataArray (DATE: 5, STORE: 4, SKU: 3)>\n",
       "array([[[1.08333333, 0.02777778, 0.        ],\n",
       "        [0.11111111, 2.47222222, 1.75      ],\n",
       "        [0.88888889, 0.        , 0.83333333],\n",
       "        [2.36111111, 1.08333333, 0.        ]],\n",
       "\n",
       "       [[0.        , 0.11111111, 1.91666667],\n",
       "        [1.52777778, 0.19444444, 2.72222222],\n",
       "        [1.19444444, 0.36111111, 2.11111111],\n",
       "        [1.08333333, 2.38888889, 0.61111111]],\n",
       "\n",
       "       [[0.02777778, 0.        , 1.13888889],\n",
       "        [0.        , 2.30555556, 0.94444444],\n",
       "        [0.        , 0.63888889, 1.19444444],\n",
       "        [0.80555556, 0.63888889, 2.30555556]],\n",
       "\n",
       "       [[0.44444444, 0.94444444, 0.58333333],\n",
       "        [1.41666667, 0.41666667, 0.88888889],\n",
       "        [2.11111111, 1.33333333, 0.97222222],\n",
       "        [0.        , 1.97222222, 0.        ]],\n",
       "\n",
       "       [[1.58333333, 1.61111111, 0.        ],\n",
       "        [3.33333333, 0.        , 0.94444444],\n",
       "        [2.91666667, 1.72222222, 0.44444444],\n",
       "        [0.27777778, 0.11111111, 0.        ]]])\n",
       "Coordinates:\n",
       "  * DATE     (DATE) datetime64[ns] 2020-01-01 2020-01-02 ... 2020-01-05\n",
       "  * STORE    (STORE) int64 0 1 2 3\n",
       "  * SKU      (SKU) int64 0 1 2"
      ]
     },
     "execution_count": 23,
     "metadata": {},
     "output_type": "execute_result"
    }
   ],
   "source": [
    "ds.xs.crps_ensemble('y', 'yhat', dim='member')"
   ]
  },
  {
   "cell_type": "markdown",
   "metadata": {},
   "source": [
    "To return an overal CRPS it is recommened averaging over all dimensions before using `crps`..."
   ]
  },
  {
   "cell_type": "code",
   "execution_count": 31,
   "metadata": {},
   "outputs": [
    {
     "name": "stdout",
     "output_type": "stream",
     "text": [
      "<xarray.DataArray 'y' ()>\n",
      "array(3.98333333)\n",
      "<xarray.DataArray 'yhat' (member: 6)>\n",
      "array([3.45      , 3.11666667, 3.26666667, 3.93333333, 3.75      ,\n",
      "       3.4       ])\n",
      "Coordinates:\n",
      "  * member   (member) int64 1 2 3 4 5 6\n"
     ]
    },
    {
     "data": {
      "text/html": [
       "<pre>&lt;xarray.DataArray ()&gt;\n",
       "array(0.34212963)</pre>"
      ],
      "text/plain": [
       "<xarray.DataArray ()>\n",
       "array(0.34212963)"
      ]
     },
     "execution_count": 31,
     "metadata": {},
     "output_type": "execute_result"
    }
   ],
   "source": [
    "y = ds['y'].mean(dim=['DATE', 'STORE', 'SKU'])\n",
    "print(y)\n",
    "yhat = ds['yhat'].mean(dim=['DATE', 'STORE', 'SKU'])\n",
    "print(yhat)\n",
    "xs.crps_ensemble(y, yhat, dim='member')"
   ]
  },
  {
   "cell_type": "code",
   "execution_count": null,
   "metadata": {},
   "outputs": [],
   "source": []
  }
 ],
 "metadata": {
  "kernelspec": {
   "display_name": "Python 3",
   "language": "python",
   "name": "python3"
  },
  "language_info": {
   "codemirror_mode": {
    "name": "ipython",
    "version": 3
   },
   "file_extension": ".py",
   "mimetype": "text/x-python",
   "name": "python",
   "nbconvert_exporter": "python",
   "pygments_lexer": "ipython3",
   "version": "3.8.1"
  }
 },
 "nbformat": 4,
 "nbformat_minor": 4
}
